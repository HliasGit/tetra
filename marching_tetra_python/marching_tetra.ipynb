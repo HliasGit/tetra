{
 "cells": [
  {
   "cell_type": "markdown",
   "metadata": {},
   "source": [
    "# A simple example of the marching tetrahedron algorithm"
   ]
  },
  {
   "cell_type": "code",
   "execution_count": 8,
   "metadata": {},
   "outputs": [
    {
     "name": "stdout",
     "output_type": "stream",
     "text": [
      "[[[0. 0. 3. 4.]\n",
      "  [0. 0. 3. 4.]\n",
      "  [0. 0. 3. 4.]\n",
      "  [0. 0. 3. 4.]]\n",
      "\n",
      " [[0. 0. 3. 4.]\n",
      "  [0. 0. 3. 4.]\n",
      "  [0. 0. 3. 4.]\n",
      "  [0. 0. 3. 4.]]\n",
      "\n",
      " [[0. 0. 3. 4.]\n",
      "  [0. 0. 3. 4.]\n",
      "  [0. 0. 3. 4.]\n",
      "  [0. 0. 3. 4.]]\n",
      "\n",
      " [[0. 0. 3. 4.]\n",
      "  [0. 0. 3. 4.]\n",
      "  [0. 0. 3. 4.]\n",
      "  [0. 0. 3. 4.]]]\n"
     ]
    }
   ],
   "source": [
    "# Use a 3x3x3 grid\n",
    "\n",
    "import numpy as np\n",
    "\n",
    "# Create a 3x3x3 grid of zeros\n",
    "n = 3\n",
    "c = 3.5\n",
    "grid = np.zeros((n+1, n+1, n+1), dtype=float)\n",
    "\n",
    "for k in range (0, n+1):\n",
    "    for j in range (0, n+1):\n",
    "        for i in range (0, n+1):\n",
    "            grid[i,j,2] = 3.0\n",
    "            grid[i,j,3] = 4.0\n",
    "\n",
    "print(grid)\n",
    "\n"
   ]
  },
  {
   "cell_type": "code",
   "execution_count": 54,
   "metadata": {},
   "outputs": [
    {
     "name": "stdout",
     "output_type": "stream",
     "text": [
      "Global coordinate of the block number 5 with block position block_coordinate (2, 0, 0) in the global grid\n",
      "[2 0 1]\n",
      "The local coordinate within the block is at:\n",
      "[0 0 1]\n"
     ]
    }
   ],
   "source": [
    "# I have the position of each cube as (i,j,k) where i is the x position, j is the y position, and k is the z position\n",
    "# I can compute the relative position with the following rule:\n",
    "# i' = i if i is even, i' = i+1 else. Applies for j and k as well\n",
    "# i'' = 2*i+1-i'. Applies for j and k as well\n",
    "\n",
    "# Compute the (0,0,0) \n",
    "\n",
    "block_coordinate = (2,0,0)\n",
    "point = 5 # From 1 to 8\n",
    "\n",
    "if point < 1:\n",
    "    raise ValueError(\"Number must be >= 1\")\n",
    "\n",
    "conversion_table = [ # Note that this pattern is the 0-7 in binary from right to left\n",
    "    (\"i'\", \"j'\", \"k'\"),\n",
    "    (\"i''\", \"j'\", \"k'\"),\n",
    "    (\"i'\", \"j''\", \"k'\"),\n",
    "    (\"i''\", \"j''\", \"k'\"),\n",
    "    (\"i'\", \"j'\", \"k''\"),\n",
    "    (\"i''\", \"j'\", \"k''\"),\n",
    "    (\"i'\", \"j''\", \"k''\"),\n",
    "    (\"i''\", \"j''\", \"k''\"),\n",
    "]\n",
    "\n",
    "# I want to find the 7th point of the block_coordinate = (0,0,0) cube\n",
    "\n",
    "one_apex = np.zeros((3), dtype = int)\n",
    "two_apex = np.zeros((3), dtype = int)\n",
    "global_coordinate = np.zeros((3), dtype = int)\n",
    "local_coordinate = np.zeros((3), dtype = int)\n",
    "\n",
    "for var in range(3):\n",
    "    if block_coordinate[var] % 2 == 0:\n",
    "        one_apex[var] = block_coordinate[var]\n",
    "    else:\n",
    "        one_apex[var] = block_coordinate[var]+1\n",
    "    \n",
    "    two_apex[var] = 2*block_coordinate[var]+1-one_apex[var]\n",
    "\n",
    "    if conversion_table[point-1][var] == \"i'\" or conversion_table[point-1][var] == \"j'\" or conversion_table[point-1][var] == \"k'\":\n",
    "        global_coordinate[var] = one_apex[var]\n",
    "    else:\n",
    "        global_coordinate[var] = two_apex[var]\n",
    "    local_coordinate[var] = global_coordinate[var]-block_coordinate[var]\n",
    "\n",
    "    \n",
    "\n",
    "print(\"Global coordinate of the block number\", str(point), \"with block position block_coordinate\", str(block_coordinate), \"in the global grid\" )\n",
    "print(global_coordinate)\n",
    "print(\"The local coordinate within the block is at:\" )\n",
    "print(local_coordinate)"
   ]
  },
  {
   "cell_type": "code",
   "execution_count": 1,
   "metadata": {},
   "outputs": [
    {
     "ename": "NameError",
     "evalue": "name 'np' is not defined",
     "output_type": "error",
     "traceback": [
      "\u001b[0;31m---------------------------------------------------------------------------\u001b[0m",
      "\u001b[0;31mNameError\u001b[0m                                 Traceback (most recent call last)",
      "Cell \u001b[0;32mIn[1], line 11\u001b[0m\n\u001b[1;32m      1\u001b[0m \u001b[38;5;66;03m# Now I need the reverse, i.e.: from a coordinate I want to know the number among its block vertices\u001b[39;00m\n\u001b[1;32m      2\u001b[0m \u001b[38;5;66;03m# For example. I know the the vertex 8 in the cube at location (2,1,0) is at position (3,1,1)\u001b[39;00m\n\u001b[1;32m      3\u001b[0m \n\u001b[0;32m   (...)\u001b[0m\n\u001b[1;32m      7\u001b[0m \u001b[38;5;66;03m#   if odd then it's mirrored.\u001b[39;00m\n\u001b[1;32m      8\u001b[0m \u001b[38;5;66;03m# I can first handle the first case. Example with 5 for (2,0,0) which is in (2,0,1)\u001b[39;00m\n\u001b[1;32m     10\u001b[0m global_coord_vertex \u001b[38;5;241m=\u001b[39m (\u001b[38;5;241m3\u001b[39m,\u001b[38;5;241m2\u001b[39m,\u001b[38;5;241m2\u001b[39m)\n\u001b[0;32m---> 11\u001b[0m new_coord \u001b[38;5;241m=\u001b[39m \u001b[43mnp\u001b[49m\u001b[38;5;241m.\u001b[39mzeros((\u001b[38;5;241m3\u001b[39m), dtype\u001b[38;5;241m=\u001b[39m\u001b[38;5;28mint\u001b[39m)\n\u001b[1;32m     12\u001b[0m \u001b[38;5;28msum\u001b[39m \u001b[38;5;241m=\u001b[39m \u001b[38;5;241m0\u001b[39m\n\u001b[1;32m     14\u001b[0m new_coord[\u001b[38;5;241m0\u001b[39m] \u001b[38;5;241m=\u001b[39m global_coord_vertex[\u001b[38;5;241m0\u001b[39m] \u001b[38;5;241m%\u001b[39m \u001b[38;5;241m2\u001b[39m\n",
      "\u001b[0;31mNameError\u001b[0m: name 'np' is not defined"
     ]
    }
   ],
   "source": [
    "# Now I need the reverse, i.e.: from a coordinate I want to know the number among its block vertices\n",
    "# For example. I know the the vertex 8 in the cube at location (2,1,0) is at position (3,1,1)\n",
    "\n",
    "# Now, from (3,1,1) and (2,1,0) I want to go back to 8  \n",
    "\n",
    "# There is this property for which if the sum of the block coordinates is even, the block has the normal configuration,\n",
    "#   if odd then it's mirrored.\n",
    "# I can first handle the first case. Example with 5 for (2,0,0) which is in (2,0,1)\n",
    "\n",
    "global_coord_vertex = (3,2,2)\n",
    "new_coord = np.zeros((3), dtype=int)\n",
    "sum = 0\n",
    "\n",
    "new_coord[0] = global_coord_vertex[0] % 2\n",
    "new_coord[1] = global_coord_vertex[1] % 2\n",
    "new_coord[2] = global_coord_vertex[2] % 2\n",
    "\n",
    "print(new_coord)\n",
    "new_coord = str(new_coord)\n",
    "\n",
    "inv_conversion_table_1 = {\n",
    "    \"[0 0 0]\": 1,\n",
    "    \"[1 0 0]\": 2,\n",
    "    \"[0 1 0]\": 3,\n",
    "    \"[1 1 0]\": 4,\n",
    "    \"[0 0 1]\": 5,\n",
    "    \"[1 0 1]\": 6,\n",
    "    \"[0 1 1]\": 7,\n",
    "    \"[1 1 1]\": 8\n",
    "}\n",
    "\n",
    "# Once I know this is the normal disposition of the cube\n",
    "print(inv_conversion_table_1[new_coord])"
   ]
  }
 ],
 "metadata": {
  "kernelspec": {
   "display_name": "tesi",
   "language": "python",
   "name": "python3"
  },
  "language_info": {
   "codemirror_mode": {
    "name": "ipython",
    "version": 3
   },
   "file_extension": ".py",
   "mimetype": "text/x-python",
   "name": "python",
   "nbconvert_exporter": "python",
   "pygments_lexer": "ipython3",
   "version": "3.12.9"
  }
 },
 "nbformat": 4,
 "nbformat_minor": 2
}
