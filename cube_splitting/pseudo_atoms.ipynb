{
 "cells": [
  {
   "cell_type": "code",
   "execution_count": 2,
   "metadata": {},
   "outputs": [],
   "source": [
    "from Bio.PDB import PDBIO, Structure, Model, Chain, Residue, Atom\n",
    "import py3Dmol"
   ]
  },
  {
   "cell_type": "code",
   "execution_count": 4,
   "metadata": {},
   "outputs": [],
   "source": [
    "from Bio.PDB import PDBIO, Structure, Model, Chain, Residue, Atom\n",
    "\n",
    "# Create structure\n",
    "structure = Structure.Structure(\"example\")\n",
    "model = Model.Model(0)\n",
    "chain = Chain.Chain(\"A\")\n",
    "\n",
    "# Define atoms (name, coordinates, occupancy, B-factor, element)\n",
    "atoms = [\n",
    "    Atom.Atom(\"PS1\", [0.000, 0.000, 0.000], 1.0, 0.0, \" \", \"PS1\", 1, element=\"C\"),\n",
    "    Atom.Atom(\"PS2\", [1.000, 0.000, 0.000], 1.0, 0.0, \" \", \"PS2\", 2, element=\"C\"),\n",
    "    Atom.Atom(\"PS3\", [0.500, 1.000, 0.000], 1.0, 0.0, \" \", \"PS3\", 3, element=\"C\"),\n",
    "]\n",
    "\n",
    "# Add atoms to a residue and then to a chain\n",
    "residue = Residue.Residue((\" \", 1, \" \"), \"PSE\", \" \")\n",
    "for atom in atoms:\n",
    "    residue.add(atom)\n",
    "\n",
    "chain.add(residue)\n",
    "model.add(chain)\n",
    "structure.add(model)\n",
    "\n",
    "# Write to PDB\n",
    "io = PDBIO()\n",
    "io.set_structure(structure)\n",
    "io.save(\"output.pdb\")\n"
   ]
  },
  {
   "cell_type": "code",
   "execution_count": null,
   "metadata": {},
   "outputs": [
    {
     "data": {
      "application/3dmoljs_load.v0": "<div id=\"3dmolviewer_1739545546535388\"  style=\"position: relative; width: 400px; height: 400px;\">\n        <p id=\"3dmolwarning_1739545546535388\" style=\"background-color:#ffcccc;color:black\">3Dmol.js failed to load for some reason.  Please check your browser console for error messages.<br></p>\n        </div>\n<script>\n\nvar loadScriptAsync = function(uri){\n  return new Promise((resolve, reject) => {\n    //this is to ignore the existence of requirejs amd\n    var savedexports, savedmodule;\n    if (typeof exports !== 'undefined') savedexports = exports;\n    else exports = {}\n    if (typeof module !== 'undefined') savedmodule = module;\n    else module = {}\n\n    var tag = document.createElement('script');\n    tag.src = uri;\n    tag.async = true;\n    tag.onload = () => {\n        exports = savedexports;\n        module = savedmodule;\n        resolve();\n    };\n  var firstScriptTag = document.getElementsByTagName('script')[0];\n  firstScriptTag.parentNode.insertBefore(tag, firstScriptTag);\n});\n};\n\nif(typeof $3Dmolpromise === 'undefined') {\n$3Dmolpromise = null;\n  $3Dmolpromise = loadScriptAsync('https://cdnjs.cloudflare.com/ajax/libs/3Dmol/2.4.2/3Dmol-min.js');\n}\n\nvar viewer_1739545546535388 = null;\nvar warn = document.getElementById(\"3dmolwarning_1739545546535388\");\nif(warn) {\n    warn.parentNode.removeChild(warn);\n}\n$3Dmolpromise.then(function() {\nviewer_1739545546535388 = $3Dmol.createViewer(document.getElementById(\"3dmolviewer_1739545546535388\"),{backgroundColor:\"white\"});\nviewer_1739545546535388.zoomTo();\n\tviewer_1739545546535388.addModel(\"ATOM      1  PS1 PSE A   1       0.000   0.000   0.000  0.00  1.00           C  \\nATOM      2  PS2 PSE A   1       0.000   0.000  10.000  0.00  1.00           C  \\nATOM      3  PS3 PSE A   1       0.000  10.000   0.000  0.00  1.00           C  \\nATOM      4  PS4 PSE A   1       0.000  10.000  10.000  0.00  1.00           C  \\nATOM      5  PS5 PSE A   1      10.000   0.000   0.000  0.00  1.00           C  \\nATOM      6  PS6 PSE A   1      10.000   0.000  10.000  0.00  1.00           C  \\nATOM      7  PS7 PSE A   1      10.000  10.000   0.000  0.00  1.00           C  \\nATOM      8  PS8 PSE A   1      10.000  10.000  10.000  0.00  1.00           C  \\nTER       9      PSE A   1                                                    \\nCONECT    1    2    3    5  # Connect PS1 to PS2, PS3, PS5  \\nCONECT    2    1    4    6  # Connect PS2 to PS1, PS4, PS6  \\nCONECT    3    1    4    7  # Connect PS3 to PS1, PS4, PS7  \\nCONECT    4    2    3    8  # Connect PS4 to PS2, PS3, PS8  \\nCONECT    5    1    6    7  # Connect PS5 to PS1, PS6, PS7  \\nCONECT    6    2    5    8  # Connect PS6 to PS2, PS5, PS8  \\nCONECT    7    3    5    8  # Connect PS7 to PS3, PS5, PS8  \\nCONECT    8    4    6    7  # Connect PS8 to PS4, PS6, PS7  \\nEND  \\n\",\"pdb\");\n\tviewer_1739545546535388.setStyle({\"stick\": {\"colorscheme\": \"cyanCarbon\"}});\n\tviewer_1739545546535388.zoomTo();\nviewer_1739545546535388.render();\n});\n</script>",
      "text/html": [
       "<div id=\"3dmolviewer_1739545546535388\"  style=\"position: relative; width: 400px; height: 400px;\">\n",
       "        <p id=\"3dmolwarning_1739545546535388\" style=\"background-color:#ffcccc;color:black\">3Dmol.js failed to load for some reason.  Please check your browser console for error messages.<br></p>\n",
       "        </div>\n",
       "<script>\n",
       "\n",
       "var loadScriptAsync = function(uri){\n",
       "  return new Promise((resolve, reject) => {\n",
       "    //this is to ignore the existence of requirejs amd\n",
       "    var savedexports, savedmodule;\n",
       "    if (typeof exports !== 'undefined') savedexports = exports;\n",
       "    else exports = {}\n",
       "    if (typeof module !== 'undefined') savedmodule = module;\n",
       "    else module = {}\n",
       "\n",
       "    var tag = document.createElement('script');\n",
       "    tag.src = uri;\n",
       "    tag.async = true;\n",
       "    tag.onload = () => {\n",
       "        exports = savedexports;\n",
       "        module = savedmodule;\n",
       "        resolve();\n",
       "    };\n",
       "  var firstScriptTag = document.getElementsByTagName('script')[0];\n",
       "  firstScriptTag.parentNode.insertBefore(tag, firstScriptTag);\n",
       "});\n",
       "};\n",
       "\n",
       "if(typeof $3Dmolpromise === 'undefined') {\n",
       "$3Dmolpromise = null;\n",
       "  $3Dmolpromise = loadScriptAsync('https://cdnjs.cloudflare.com/ajax/libs/3Dmol/2.4.2/3Dmol-min.js');\n",
       "}\n",
       "\n",
       "var viewer_1739545546535388 = null;\n",
       "var warn = document.getElementById(\"3dmolwarning_1739545546535388\");\n",
       "if(warn) {\n",
       "    warn.parentNode.removeChild(warn);\n",
       "}\n",
       "$3Dmolpromise.then(function() {\n",
       "viewer_1739545546535388 = $3Dmol.createViewer(document.getElementById(\"3dmolviewer_1739545546535388\"),{backgroundColor:\"white\"});\n",
       "viewer_1739545546535388.zoomTo();\n",
       "\tviewer_1739545546535388.addModel(\"ATOM      1  PS1 PSE A   1       0.000   0.000   0.000  0.00  1.00           C  \\nATOM      2  PS2 PSE A   1       0.000   0.000  10.000  0.00  1.00           C  \\nATOM      3  PS3 PSE A   1       0.000  10.000   0.000  0.00  1.00           C  \\nATOM      4  PS4 PSE A   1       0.000  10.000  10.000  0.00  1.00           C  \\nATOM      5  PS5 PSE A   1      10.000   0.000   0.000  0.00  1.00           C  \\nATOM      6  PS6 PSE A   1      10.000   0.000  10.000  0.00  1.00           C  \\nATOM      7  PS7 PSE A   1      10.000  10.000   0.000  0.00  1.00           C  \\nATOM      8  PS8 PSE A   1      10.000  10.000  10.000  0.00  1.00           C  \\nTER       9      PSE A   1                                                    \\nCONECT    1    2    3    5  # Connect PS1 to PS2, PS3, PS5  \\nCONECT    2    1    4    6  # Connect PS2 to PS1, PS4, PS6  \\nCONECT    3    1    4    7  # Connect PS3 to PS1, PS4, PS7  \\nCONECT    4    2    3    8  # Connect PS4 to PS2, PS3, PS8  \\nCONECT    5    1    6    7  # Connect PS5 to PS1, PS6, PS7  \\nCONECT    6    2    5    8  # Connect PS6 to PS2, PS5, PS8  \\nCONECT    7    3    5    8  # Connect PS7 to PS3, PS5, PS8  \\nCONECT    8    4    6    7  # Connect PS8 to PS4, PS6, PS7  \\nEND  \\n\",\"pdb\");\n",
       "\tviewer_1739545546535388.setStyle({\"stick\": {\"colorscheme\": \"cyanCarbon\"}});\n",
       "\tviewer_1739545546535388.zoomTo();\n",
       "viewer_1739545546535388.render();\n",
       "});\n",
       "</script>"
      ]
     },
     "metadata": {},
     "output_type": "display_data"
    }
   ],
   "source": [
    "# Read a pdb file\n",
    "with open(\"cube.pdb\", \"r\") as f:\n",
    "    pdb_data = f.read()\n",
    "\n",
    "# Visualize in Jupyter Notebook\n",
    "viewer = py3Dmol.view(width=400, height=400)\n",
    "viewer.addModel(pdb_data, \"pdb\")\n",
    "\n",
    "# Style stick, add color\n",
    "viewer.setStyle({\"stick\": {'colorscheme': \"cyanCarbon\"}})\n",
    "viewer.zoomTo()\n",
    "viewer.show()"
   ]
  }
 ],
 "metadata": {
  "kernelspec": {
   "display_name": "tesi",
   "language": "python",
   "name": "python3"
  },
  "language_info": {
   "codemirror_mode": {
    "name": "ipython",
    "version": 3
   },
   "file_extension": ".py",
   "mimetype": "text/x-python",
   "name": "python",
   "nbconvert_exporter": "python",
   "pygments_lexer": "ipython3",
   "version": "3.12.9"
  }
 },
 "nbformat": 4,
 "nbformat_minor": 2
}
