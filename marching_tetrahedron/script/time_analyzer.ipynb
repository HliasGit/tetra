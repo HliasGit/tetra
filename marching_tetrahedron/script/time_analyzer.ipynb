{
 "cells": [
  {
   "cell_type": "code",
   "execution_count": null,
   "id": "b3ac5148",
   "metadata": {},
   "outputs": [],
   "source": [
    "import numpy as np\n",
    "import matplotlib.pyplot as plt"
   ]
  },
  {
   "cell_type": "code",
   "execution_count": null,
   "id": "7b05ed5a",
   "metadata": {},
   "outputs": [],
   "source": [
    "import glob\n",
    "\n",
    "# Define the path to the directory containing the txt files for adenosine\n",
    "\n",
    "mol = \"1e7p\"\n",
    "\n",
    "txt_files = glob.glob('results/' + mol + '/*.txt')\n",
    "\n",
    "# Read all txt files and store their contents in a list\n",
    "adenosine_data = []\n",
    "for file in txt_files:\n",
    "    with open(file, 'r') as f:\n",
    "        adenosine_data.append(f.read())"
   ]
  },
  {
   "cell_type": "code",
   "execution_count": null,
   "id": "059c21c8",
   "metadata": {},
   "outputs": [],
   "source": [
    "# Compute mean and variance for each dataset in adenosine_data\n",
    "means = []\n",
    "variances = []\n",
    "for data in adenosine_data:\n",
    "    values = np.array([float(x) for x in data.strip().split('\\n')])\n",
    "    means.append(np.mean(values))\n",
    "    variances.append(np.var(values))\n",
    "\n",
    "std_devs = np.sqrt(variances)\n",
    "\n",
    "\n",
    "plt.figure(figsize=(6, 4))\n",
    "plt.scatter(range(len(means)), means, color='skyblue')\n",
    "plt.yscale('log')\n",
    "plt.xticks(range(len(means)), [file.split('/')[-1] for file in txt_files], rotation=45, ha='right')\n",
    "plt.xlabel('File')\n",
    "plt.ylabel('Mean Value (log scale)')\n",
    "plt.title('Mean Value for Each Dataset (Log Scale)') \n",
    "plt.grid(True, which='both', linestyle='--', linewidth=0.5)\n",
    "plt.tight_layout()\n",
    "plt.show()\n"
   ]
  },
  {
   "cell_type": "code",
   "execution_count": null,
   "id": "9490233e",
   "metadata": {},
   "outputs": [],
   "source": [
    "plt.figure(figsize=(6, 4))\n",
    "plt.bar(range(len(std_devs)), std_devs, color='skyblue')\n",
    "plt.xticks(range(len(std_devs)), [file.split('/')[-1] for file in txt_files], rotation=45, ha='right')\n",
    "plt.xlabel('File')\n",
    "plt.ylabel('Standard Deviation')\n",
    "plt.title('Standard Deviation for Each Dataset')\n",
    "plt.tight_layout()\n",
    "plt.show()\n"
   ]
  }
 ],
 "metadata": {
  "kernelspec": {
   "display_name": ".venv",
   "language": "python",
   "name": "python3"
  },
  "language_info": {
   "codemirror_mode": {
    "name": "ipython",
    "version": 3
   },
   "file_extension": ".py",
   "mimetype": "text/x-python",
   "name": "python",
   "nbconvert_exporter": "python",
   "pygments_lexer": "ipython3",
   "version": "3.9.16"
  }
 },
 "nbformat": 4,
 "nbformat_minor": 5
}
